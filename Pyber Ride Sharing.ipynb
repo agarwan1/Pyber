{
 "cells": [
  {
   "cell_type": "code",
   "execution_count": 2,
   "metadata": {},
   "outputs": [],
   "source": [
    "#Dependencies\n",
    "import pandas as pd\n",
    "import matplotlib.pyplot as plt\n",
    "#import seaborn as sns"
   ]
  },
  {
   "cell_type": "code",
   "execution_count": 3,
   "metadata": {},
   "outputs": [],
   "source": [
    "#Save path to data set in a variable\n",
    "data_file = \"city_data.csv\"\n",
    "data_file2 = \"ride_data.csv\""
   ]
  },
  {
   "cell_type": "code",
   "execution_count": 4,
   "metadata": {},
   "outputs": [
    {
     "data": {
      "text/html": [
       "<div>\n",
       "<style scoped>\n",
       "    .dataframe tbody tr th:only-of-type {\n",
       "        vertical-align: middle;\n",
       "    }\n",
       "\n",
       "    .dataframe tbody tr th {\n",
       "        vertical-align: top;\n",
       "    }\n",
       "\n",
       "    .dataframe thead th {\n",
       "        text-align: right;\n",
       "    }\n",
       "</style>\n",
       "<table border=\"1\" class=\"dataframe\">\n",
       "  <thead>\n",
       "    <tr style=\"text-align: right;\">\n",
       "      <th></th>\n",
       "      <th>city</th>\n",
       "      <th>driver_count</th>\n",
       "      <th>type</th>\n",
       "    </tr>\n",
       "  </thead>\n",
       "  <tbody>\n",
       "    <tr>\n",
       "      <th>0</th>\n",
       "      <td>Kelseyland</td>\n",
       "      <td>63</td>\n",
       "      <td>Urban</td>\n",
       "    </tr>\n",
       "    <tr>\n",
       "      <th>1</th>\n",
       "      <td>Nguyenbury</td>\n",
       "      <td>8</td>\n",
       "      <td>Urban</td>\n",
       "    </tr>\n",
       "    <tr>\n",
       "      <th>2</th>\n",
       "      <td>East Douglas</td>\n",
       "      <td>12</td>\n",
       "      <td>Urban</td>\n",
       "    </tr>\n",
       "    <tr>\n",
       "      <th>3</th>\n",
       "      <td>West Dawnfurt</td>\n",
       "      <td>34</td>\n",
       "      <td>Urban</td>\n",
       "    </tr>\n",
       "    <tr>\n",
       "      <th>4</th>\n",
       "      <td>Rodriguezburgh</td>\n",
       "      <td>52</td>\n",
       "      <td>Urban</td>\n",
       "    </tr>\n",
       "  </tbody>\n",
       "</table>\n",
       "</div>"
      ],
      "text/plain": [
       "             city  driver_count   type\n",
       "0      Kelseyland            63  Urban\n",
       "1      Nguyenbury             8  Urban\n",
       "2    East Douglas            12  Urban\n",
       "3   West Dawnfurt            34  Urban\n",
       "4  Rodriguezburgh            52  Urban"
      ]
     },
     "execution_count": 4,
     "metadata": {},
     "output_type": "execute_result"
    }
   ],
   "source": [
    "#Use pandas to read the data\n",
    "#print(data_file)\n",
    "#data_file_pd = pd.read_json(data_file)\n",
    "# pd_file = pd.read_csv(data_file)\n",
    "# pd_file.head()\n",
    "\n",
    "pd_file = pd.read_csv(data_file)\n",
    "pd_file.head()"
   ]
  },
  {
   "cell_type": "code",
   "execution_count": 5,
   "metadata": {},
   "outputs": [
    {
     "data": {
      "text/html": [
       "<div>\n",
       "<style scoped>\n",
       "    .dataframe tbody tr th:only-of-type {\n",
       "        vertical-align: middle;\n",
       "    }\n",
       "\n",
       "    .dataframe tbody tr th {\n",
       "        vertical-align: top;\n",
       "    }\n",
       "\n",
       "    .dataframe thead th {\n",
       "        text-align: right;\n",
       "    }\n",
       "</style>\n",
       "<table border=\"1\" class=\"dataframe\">\n",
       "  <thead>\n",
       "    <tr style=\"text-align: right;\">\n",
       "      <th></th>\n",
       "      <th>city</th>\n",
       "      <th>date</th>\n",
       "      <th>fare</th>\n",
       "      <th>ride_id</th>\n",
       "    </tr>\n",
       "  </thead>\n",
       "  <tbody>\n",
       "    <tr>\n",
       "      <th>0</th>\n",
       "      <td>Sarabury</td>\n",
       "      <td>2016-01-16 13:49:27</td>\n",
       "      <td>38.35</td>\n",
       "      <td>5403689035038</td>\n",
       "    </tr>\n",
       "    <tr>\n",
       "      <th>1</th>\n",
       "      <td>South Roy</td>\n",
       "      <td>2016-01-02 18:42:34</td>\n",
       "      <td>17.49</td>\n",
       "      <td>4036272335942</td>\n",
       "    </tr>\n",
       "    <tr>\n",
       "      <th>2</th>\n",
       "      <td>Wiseborough</td>\n",
       "      <td>2016-01-21 17:35:29</td>\n",
       "      <td>44.18</td>\n",
       "      <td>3645042422587</td>\n",
       "    </tr>\n",
       "    <tr>\n",
       "      <th>3</th>\n",
       "      <td>Spencertown</td>\n",
       "      <td>2016-07-31 14:53:22</td>\n",
       "      <td>6.87</td>\n",
       "      <td>2242596575892</td>\n",
       "    </tr>\n",
       "    <tr>\n",
       "      <th>4</th>\n",
       "      <td>Nguyenbury</td>\n",
       "      <td>2016-07-09 04:42:44</td>\n",
       "      <td>6.28</td>\n",
       "      <td>1543057793673</td>\n",
       "    </tr>\n",
       "  </tbody>\n",
       "</table>\n",
       "</div>"
      ],
      "text/plain": [
       "          city                 date   fare        ride_id\n",
       "0     Sarabury  2016-01-16 13:49:27  38.35  5403689035038\n",
       "1    South Roy  2016-01-02 18:42:34  17.49  4036272335942\n",
       "2  Wiseborough  2016-01-21 17:35:29  44.18  3645042422587\n",
       "3  Spencertown  2016-07-31 14:53:22   6.87  2242596575892\n",
       "4   Nguyenbury  2016-07-09 04:42:44   6.28  1543057793673"
      ]
     },
     "execution_count": 5,
     "metadata": {},
     "output_type": "execute_result"
    }
   ],
   "source": [
    "pd_file2 = pd.read_csv(data_file2)\n",
    "pd_file2.head()"
   ]
  },
  {
   "cell_type": "code",
   "execution_count": 6,
   "metadata": {},
   "outputs": [
    {
     "data": {
      "text/html": [
       "<div>\n",
       "<style scoped>\n",
       "    .dataframe tbody tr th:only-of-type {\n",
       "        vertical-align: middle;\n",
       "    }\n",
       "\n",
       "    .dataframe tbody tr th {\n",
       "        vertical-align: top;\n",
       "    }\n",
       "\n",
       "    .dataframe thead th {\n",
       "        text-align: right;\n",
       "    }\n",
       "</style>\n",
       "<table border=\"1\" class=\"dataframe\">\n",
       "  <thead>\n",
       "    <tr style=\"text-align: right;\">\n",
       "      <th></th>\n",
       "      <th>city</th>\n",
       "      <th>driver_count</th>\n",
       "      <th>type</th>\n",
       "      <th>date</th>\n",
       "      <th>fare</th>\n",
       "      <th>ride_id</th>\n",
       "    </tr>\n",
       "  </thead>\n",
       "  <tbody>\n",
       "    <tr>\n",
       "      <th>0</th>\n",
       "      <td>Kelseyland</td>\n",
       "      <td>63</td>\n",
       "      <td>Urban</td>\n",
       "      <td>2016-08-19 04:27:52</td>\n",
       "      <td>5.51</td>\n",
       "      <td>6246006544795</td>\n",
       "    </tr>\n",
       "    <tr>\n",
       "      <th>1</th>\n",
       "      <td>Kelseyland</td>\n",
       "      <td>63</td>\n",
       "      <td>Urban</td>\n",
       "      <td>2016-04-17 06:59:50</td>\n",
       "      <td>5.54</td>\n",
       "      <td>7466473222333</td>\n",
       "    </tr>\n",
       "    <tr>\n",
       "      <th>2</th>\n",
       "      <td>Kelseyland</td>\n",
       "      <td>63</td>\n",
       "      <td>Urban</td>\n",
       "      <td>2016-05-04 15:06:07</td>\n",
       "      <td>30.54</td>\n",
       "      <td>2140501382736</td>\n",
       "    </tr>\n",
       "    <tr>\n",
       "      <th>3</th>\n",
       "      <td>Kelseyland</td>\n",
       "      <td>63</td>\n",
       "      <td>Urban</td>\n",
       "      <td>2016-01-25 20:44:56</td>\n",
       "      <td>12.08</td>\n",
       "      <td>1896987891309</td>\n",
       "    </tr>\n",
       "    <tr>\n",
       "      <th>4</th>\n",
       "      <td>Kelseyland</td>\n",
       "      <td>63</td>\n",
       "      <td>Urban</td>\n",
       "      <td>2016-08-09 18:19:47</td>\n",
       "      <td>17.91</td>\n",
       "      <td>8784212854829</td>\n",
       "    </tr>\n",
       "  </tbody>\n",
       "</table>\n",
       "</div>"
      ],
      "text/plain": [
       "         city  driver_count   type                 date   fare        ride_id\n",
       "0  Kelseyland            63  Urban  2016-08-19 04:27:52   5.51  6246006544795\n",
       "1  Kelseyland            63  Urban  2016-04-17 06:59:50   5.54  7466473222333\n",
       "2  Kelseyland            63  Urban  2016-05-04 15:06:07  30.54  2140501382736\n",
       "3  Kelseyland            63  Urban  2016-01-25 20:44:56  12.08  1896987891309\n",
       "4  Kelseyland            63  Urban  2016-08-09 18:19:47  17.91  8784212854829"
      ]
     },
     "execution_count": 6,
     "metadata": {},
     "output_type": "execute_result"
    }
   ],
   "source": [
    "#Merge the files together on city, which is the common field between the two.\n",
    "# Merge our two data frames together\n",
    "combined_pyber_data = pd.merge(pd_file, pd_file2 , on=\"city\")\n",
    "combined_pyber_data.head()"
   ]
  },
  {
   "cell_type": "code",
   "execution_count": 7,
   "metadata": {},
   "outputs": [
    {
     "data": {
      "text/plain": [
       "'C:\\\\Users\\\\mukag\\\\Desktop\\\\rcb\\\\MatplotlibHW'"
      ]
     },
     "execution_count": 7,
     "metadata": {},
     "output_type": "execute_result"
    }
   ],
   "source": [
    "pwd"
   ]
  },
  {
   "cell_type": "code",
   "execution_count": 8,
   "metadata": {},
   "outputs": [
    {
     "data": {
      "text/html": [
       "<div>\n",
       "<style scoped>\n",
       "    .dataframe tbody tr th:only-of-type {\n",
       "        vertical-align: middle;\n",
       "    }\n",
       "\n",
       "    .dataframe tbody tr th {\n",
       "        vertical-align: top;\n",
       "    }\n",
       "\n",
       "    .dataframe thead th {\n",
       "        text-align: right;\n",
       "    }\n",
       "</style>\n",
       "<table border=\"1\" class=\"dataframe\">\n",
       "  <thead>\n",
       "    <tr style=\"text-align: right;\">\n",
       "      <th></th>\n",
       "      <th>driver_count</th>\n",
       "      <th>type</th>\n",
       "      <th>date</th>\n",
       "      <th>fare</th>\n",
       "      <th>ride_id</th>\n",
       "    </tr>\n",
       "    <tr>\n",
       "      <th>city</th>\n",
       "      <th></th>\n",
       "      <th></th>\n",
       "      <th></th>\n",
       "      <th></th>\n",
       "      <th></th>\n",
       "    </tr>\n",
       "  </thead>\n",
       "  <tbody>\n",
       "    <tr>\n",
       "      <th>Alvarezhaven</th>\n",
       "      <td>31</td>\n",
       "      <td>31</td>\n",
       "      <td>31</td>\n",
       "      <td>31</td>\n",
       "      <td>31</td>\n",
       "    </tr>\n",
       "    <tr>\n",
       "      <th>Alyssaberg</th>\n",
       "      <td>26</td>\n",
       "      <td>26</td>\n",
       "      <td>26</td>\n",
       "      <td>26</td>\n",
       "      <td>26</td>\n",
       "    </tr>\n",
       "    <tr>\n",
       "      <th>Anitamouth</th>\n",
       "      <td>9</td>\n",
       "      <td>9</td>\n",
       "      <td>9</td>\n",
       "      <td>9</td>\n",
       "      <td>9</td>\n",
       "    </tr>\n",
       "    <tr>\n",
       "      <th>Antoniomouth</th>\n",
       "      <td>22</td>\n",
       "      <td>22</td>\n",
       "      <td>22</td>\n",
       "      <td>22</td>\n",
       "      <td>22</td>\n",
       "    </tr>\n",
       "    <tr>\n",
       "      <th>Aprilchester</th>\n",
       "      <td>19</td>\n",
       "      <td>19</td>\n",
       "      <td>19</td>\n",
       "      <td>19</td>\n",
       "      <td>19</td>\n",
       "    </tr>\n",
       "  </tbody>\n",
       "</table>\n",
       "</div>"
      ],
      "text/plain": [
       "              driver_count  type  date  fare  ride_id\n",
       "city                                                 \n",
       "Alvarezhaven            31    31    31    31       31\n",
       "Alyssaberg              26    26    26    26       26\n",
       "Anitamouth               9     9     9     9        9\n",
       "Antoniomouth            22    22    22    22       22\n",
       "Aprilchester            19    19    19    19       19"
      ]
     },
     "execution_count": 8,
     "metadata": {},
     "output_type": "execute_result"
    }
   ],
   "source": [
    "#Create a dataframe that groups by city.\n",
    "citygroup = pd.DataFrame(combined_pyber_data.groupby([\"city\"]).count())\n",
    "citygroup.head()\n"
   ]
  },
  {
   "cell_type": "code",
   "execution_count": 9,
   "metadata": {},
   "outputs": [
    {
     "data": {
      "text/plain": [
       "city\n",
       "Alvarezhaven    23.93\n",
       "Alyssaberg      20.61\n",
       "Anitamouth      37.32\n",
       "Antoniomouth    23.62\n",
       "Aprilchester    21.98\n",
       "Name: fare, dtype: float64"
      ]
     },
     "execution_count": 9,
     "metadata": {},
     "output_type": "execute_result"
    }
   ],
   "source": [
    "avgfare = round(combined_pyber_data.groupby([\"city\"]).mean()[\"fare\"],2)\n",
    "avgfare.head()"
   ]
  },
  {
   "cell_type": "code",
   "execution_count": 10,
   "metadata": {},
   "outputs": [
    {
     "data": {
      "text/plain": [
       "city\n",
       "Alvarezhaven    31\n",
       "Alyssaberg      26\n",
       "Anitamouth       9\n",
       "Antoniomouth    22\n",
       "Aprilchester    19\n",
       "Name: ride_id, dtype: int64"
      ]
     },
     "execution_count": 10,
     "metadata": {},
     "output_type": "execute_result"
    }
   ],
   "source": [
    "totalrides = combined_pyber_data.groupby([\"city\"]).count()[\"ride_id\"]\n",
    "totalrides.head()"
   ]
  },
  {
   "cell_type": "code",
   "execution_count": 11,
   "metadata": {},
   "outputs": [
    {
     "data": {
      "text/plain": [
       "city\n",
       "Alvarezhaven    21.0\n",
       "Alyssaberg      67.0\n",
       "Anitamouth      16.0\n",
       "Antoniomouth    21.0\n",
       "Aprilchester    49.0\n",
       "Name: driver_count, dtype: float64"
      ]
     },
     "execution_count": 11,
     "metadata": {},
     "output_type": "execute_result"
    }
   ],
   "source": [
    "# totaldrivers = combined_pyber_data.groupby(\"city\").mean()[\"driver_count\"]\n",
    "# totalrides.head()\n",
    "\n",
    "bycity = combined_pyber_data.groupby('city')\n",
    "driver_count = bycity.mean()['driver_count']\n",
    "driver_count.head()"
   ]
  },
  {
   "cell_type": "code",
   "execution_count": 12,
   "metadata": {},
   "outputs": [
    {
     "data": {
      "text/html": [
       "<div>\n",
       "<style scoped>\n",
       "    .dataframe tbody tr th:only-of-type {\n",
       "        vertical-align: middle;\n",
       "    }\n",
       "\n",
       "    .dataframe tbody tr th {\n",
       "        vertical-align: top;\n",
       "    }\n",
       "\n",
       "    .dataframe thead th {\n",
       "        text-align: right;\n",
       "    }\n",
       "</style>\n",
       "<table border=\"1\" class=\"dataframe\">\n",
       "  <thead>\n",
       "    <tr style=\"text-align: right;\">\n",
       "      <th></th>\n",
       "      <th>Average Fare</th>\n",
       "      <th>Drivers per City</th>\n",
       "      <th>Rides Per City</th>\n",
       "    </tr>\n",
       "    <tr>\n",
       "      <th>city</th>\n",
       "      <th></th>\n",
       "      <th></th>\n",
       "      <th></th>\n",
       "    </tr>\n",
       "  </thead>\n",
       "  <tbody>\n",
       "    <tr>\n",
       "      <th>Alvarezhaven</th>\n",
       "      <td>23.93</td>\n",
       "      <td>21.0</td>\n",
       "      <td>31</td>\n",
       "    </tr>\n",
       "    <tr>\n",
       "      <th>Alyssaberg</th>\n",
       "      <td>20.61</td>\n",
       "      <td>67.0</td>\n",
       "      <td>26</td>\n",
       "    </tr>\n",
       "    <tr>\n",
       "      <th>Anitamouth</th>\n",
       "      <td>37.32</td>\n",
       "      <td>16.0</td>\n",
       "      <td>9</td>\n",
       "    </tr>\n",
       "    <tr>\n",
       "      <th>Antoniomouth</th>\n",
       "      <td>23.62</td>\n",
       "      <td>21.0</td>\n",
       "      <td>22</td>\n",
       "    </tr>\n",
       "    <tr>\n",
       "      <th>Aprilchester</th>\n",
       "      <td>21.98</td>\n",
       "      <td>49.0</td>\n",
       "      <td>19</td>\n",
       "    </tr>\n",
       "  </tbody>\n",
       "</table>\n",
       "</div>"
      ],
      "text/plain": [
       "              Average Fare  Drivers per City  Rides Per City\n",
       "city                                                        \n",
       "Alvarezhaven         23.93              21.0              31\n",
       "Alyssaberg           20.61              67.0              26\n",
       "Anitamouth           37.32              16.0               9\n",
       "Antoniomouth         23.62              21.0              22\n",
       "Aprilchester         21.98              49.0              19"
      ]
     },
     "execution_count": 12,
     "metadata": {},
     "output_type": "execute_result"
    }
   ],
   "source": [
    "cityanalysis = pd.DataFrame({\"Average Fare\":avgfare,\n",
    "                        \"Rides Per City\":totalrides,\n",
    "                         \"Drivers per City\":driver_count})\n",
    "#\"City Type\": \"type\"} )\n",
    "cityanalysis.head()"
   ]
  },
  {
   "cell_type": "code",
   "execution_count": 13,
   "metadata": {},
   "outputs": [
    {
     "data": {
      "text/html": [
       "<div>\n",
       "<style scoped>\n",
       "    .dataframe tbody tr th:only-of-type {\n",
       "        vertical-align: middle;\n",
       "    }\n",
       "\n",
       "    .dataframe tbody tr th {\n",
       "        vertical-align: top;\n",
       "    }\n",
       "\n",
       "    .dataframe thead th {\n",
       "        text-align: right;\n",
       "    }\n",
       "</style>\n",
       "<table border=\"1\" class=\"dataframe\">\n",
       "  <thead>\n",
       "    <tr style=\"text-align: right;\">\n",
       "      <th></th>\n",
       "      <th>index</th>\n",
       "      <th>driver_count</th>\n",
       "      <th>type</th>\n",
       "    </tr>\n",
       "    <tr>\n",
       "      <th>city</th>\n",
       "      <th></th>\n",
       "      <th></th>\n",
       "      <th></th>\n",
       "    </tr>\n",
       "  </thead>\n",
       "  <tbody>\n",
       "    <tr>\n",
       "      <th>Kelseyland</th>\n",
       "      <td>0</td>\n",
       "      <td>63</td>\n",
       "      <td>Urban</td>\n",
       "    </tr>\n",
       "    <tr>\n",
       "      <th>Nguyenbury</th>\n",
       "      <td>1</td>\n",
       "      <td>8</td>\n",
       "      <td>Urban</td>\n",
       "    </tr>\n",
       "    <tr>\n",
       "      <th>East Douglas</th>\n",
       "      <td>2</td>\n",
       "      <td>12</td>\n",
       "      <td>Urban</td>\n",
       "    </tr>\n",
       "    <tr>\n",
       "      <th>West Dawnfurt</th>\n",
       "      <td>3</td>\n",
       "      <td>34</td>\n",
       "      <td>Urban</td>\n",
       "    </tr>\n",
       "    <tr>\n",
       "      <th>Rodriguezburgh</th>\n",
       "      <td>4</td>\n",
       "      <td>52</td>\n",
       "      <td>Urban</td>\n",
       "    </tr>\n",
       "  </tbody>\n",
       "</table>\n",
       "</div>"
      ],
      "text/plain": [
       "                index  driver_count   type\n",
       "city                                      \n",
       "Kelseyland          0            63  Urban\n",
       "Nguyenbury          1             8  Urban\n",
       "East Douglas        2            12  Urban\n",
       "West Dawnfurt       3            34  Urban\n",
       "Rodriguezburgh      4            52  Urban"
      ]
     },
     "execution_count": 13,
     "metadata": {},
     "output_type": "execute_result"
    }
   ],
   "source": [
    "#Create a new dataframe as a copy of pd_file (citydata csv) and set the index to city for merging purposes.\n",
    "pd_file.reset_index()\n",
    "pd_file.head()\n",
    "citycsv = pd.DataFrame(pd_file)\n",
    "citycsv = citycsv.reset_index()\n",
    "citycsv = citycsv.set_index('city')\n",
    "citycsv.head()"
   ]
  },
  {
   "cell_type": "code",
   "execution_count": 14,
   "metadata": {},
   "outputs": [
    {
     "data": {
      "text/html": [
       "<div>\n",
       "<style scoped>\n",
       "    .dataframe tbody tr th:only-of-type {\n",
       "        vertical-align: middle;\n",
       "    }\n",
       "\n",
       "    .dataframe tbody tr th {\n",
       "        vertical-align: top;\n",
       "    }\n",
       "\n",
       "    .dataframe thead th {\n",
       "        text-align: right;\n",
       "    }\n",
       "</style>\n",
       "<table border=\"1\" class=\"dataframe\">\n",
       "  <thead>\n",
       "    <tr style=\"text-align: right;\">\n",
       "      <th></th>\n",
       "      <th>Average Fare</th>\n",
       "      <th>Drivers per City</th>\n",
       "      <th>Rides Per City</th>\n",
       "    </tr>\n",
       "    <tr>\n",
       "      <th>city</th>\n",
       "      <th></th>\n",
       "      <th></th>\n",
       "      <th></th>\n",
       "    </tr>\n",
       "  </thead>\n",
       "  <tbody>\n",
       "    <tr>\n",
       "      <th>Alvarezhaven</th>\n",
       "      <td>23.93</td>\n",
       "      <td>21.0</td>\n",
       "      <td>31</td>\n",
       "    </tr>\n",
       "    <tr>\n",
       "      <th>Alyssaberg</th>\n",
       "      <td>20.61</td>\n",
       "      <td>67.0</td>\n",
       "      <td>26</td>\n",
       "    </tr>\n",
       "    <tr>\n",
       "      <th>Anitamouth</th>\n",
       "      <td>37.32</td>\n",
       "      <td>16.0</td>\n",
       "      <td>9</td>\n",
       "    </tr>\n",
       "    <tr>\n",
       "      <th>Antoniomouth</th>\n",
       "      <td>23.62</td>\n",
       "      <td>21.0</td>\n",
       "      <td>22</td>\n",
       "    </tr>\n",
       "    <tr>\n",
       "      <th>Aprilchester</th>\n",
       "      <td>21.98</td>\n",
       "      <td>49.0</td>\n",
       "      <td>19</td>\n",
       "    </tr>\n",
       "  </tbody>\n",
       "</table>\n",
       "</div>"
      ],
      "text/plain": [
       "              Average Fare  Drivers per City  Rides Per City\n",
       "city                                                        \n",
       "Alvarezhaven         23.93              21.0              31\n",
       "Alyssaberg           20.61              67.0              26\n",
       "Anitamouth           37.32              16.0               9\n",
       "Antoniomouth         23.62              21.0              22\n",
       "Aprilchester         21.98              49.0              19"
      ]
     },
     "execution_count": 14,
     "metadata": {},
     "output_type": "execute_result"
    }
   ],
   "source": [
    "cityanalysis2 = pd.DataFrame(cityanalysis)\n",
    "cityanalysis2 = cityanalysis2.reset_index()\n",
    "cityanalysis2 = cityanalysis2.set_index('city')\n",
    "cityanalysis2.head()"
   ]
  },
  {
   "cell_type": "code",
   "execution_count": 15,
   "metadata": {},
   "outputs": [
    {
     "data": {
      "text/html": [
       "<div>\n",
       "<style scoped>\n",
       "    .dataframe tbody tr th:only-of-type {\n",
       "        vertical-align: middle;\n",
       "    }\n",
       "\n",
       "    .dataframe tbody tr th {\n",
       "        vertical-align: top;\n",
       "    }\n",
       "\n",
       "    .dataframe thead th {\n",
       "        text-align: right;\n",
       "    }\n",
       "</style>\n",
       "<table border=\"1\" class=\"dataframe\">\n",
       "  <thead>\n",
       "    <tr style=\"text-align: right;\">\n",
       "      <th></th>\n",
       "      <th>type</th>\n",
       "      <th>Average Fare</th>\n",
       "      <th>Drivers per City</th>\n",
       "      <th>Rides Per City</th>\n",
       "    </tr>\n",
       "    <tr>\n",
       "      <th>city</th>\n",
       "      <th></th>\n",
       "      <th></th>\n",
       "      <th></th>\n",
       "      <th></th>\n",
       "    </tr>\n",
       "  </thead>\n",
       "  <tbody>\n",
       "    <tr>\n",
       "      <th>Alvarezhaven</th>\n",
       "      <td>Urban</td>\n",
       "      <td>23.93</td>\n",
       "      <td>21.0</td>\n",
       "      <td>31</td>\n",
       "    </tr>\n",
       "    <tr>\n",
       "      <th>Alyssaberg</th>\n",
       "      <td>Urban</td>\n",
       "      <td>20.61</td>\n",
       "      <td>67.0</td>\n",
       "      <td>26</td>\n",
       "    </tr>\n",
       "    <tr>\n",
       "      <th>Anitamouth</th>\n",
       "      <td>Suburban</td>\n",
       "      <td>37.32</td>\n",
       "      <td>16.0</td>\n",
       "      <td>9</td>\n",
       "    </tr>\n",
       "    <tr>\n",
       "      <th>Antoniomouth</th>\n",
       "      <td>Urban</td>\n",
       "      <td>23.62</td>\n",
       "      <td>21.0</td>\n",
       "      <td>22</td>\n",
       "    </tr>\n",
       "    <tr>\n",
       "      <th>Aprilchester</th>\n",
       "      <td>Urban</td>\n",
       "      <td>21.98</td>\n",
       "      <td>49.0</td>\n",
       "      <td>19</td>\n",
       "    </tr>\n",
       "  </tbody>\n",
       "</table>\n",
       "</div>"
      ],
      "text/plain": [
       "                  type  Average Fare  Drivers per City  Rides Per City\n",
       "city                                                                  \n",
       "Alvarezhaven     Urban         23.93              21.0              31\n",
       "Alyssaberg       Urban         20.61              67.0              26\n",
       "Anitamouth    Suburban         37.32              16.0               9\n",
       "Antoniomouth     Urban         23.62              21.0              22\n",
       "Aprilchester     Urban         21.98              49.0              19"
      ]
     },
     "execution_count": 15,
     "metadata": {},
     "output_type": "execute_result"
    }
   ],
   "source": [
    "#Merge the dataframe above with the citydata csv to get the type.\n",
    "getcity = pd.merge(citycsv, cityanalysis2, left_index=True,right_index=True) \n",
    "#on=\"city\",left_index=True,right_index=True)\n",
    "#drop driver count and index as they are irrelvant.\n",
    "del getcity[\"index\"]\n",
    "del getcity[\"driver_count\"]\n",
    "getcity.head()"
   ]
  },
  {
   "cell_type": "code",
   "execution_count": 29,
   "metadata": {},
   "outputs": [
    {
     "data": {
      "image/png": "[encoded data removed]",
      "text/plain": [
       "<matplotlib.figure.Figure at 0x1d723e32d30>"
      ]
     },
     "metadata": {},
     "output_type": "display_data"
    }
   ],
   "source": [
    "\n",
    "#ridelist = cityanalysis['Rides Per City'].tolist()\n",
    "#avgfairlist = cityanalysis['Average Fare'].tolist()\n",
    "\n",
    "ridelist = getcity['Rides Per City'].tolist()\n",
    "avgfairlist = getcity['Average Fare'].tolist()\n",
    "drivercountlist = getcity['Drivers per City']\n",
    "typelist = getcity['type'].tolist()\n",
    "#s = getcity[\"type\"]\n",
    "\n",
    "\n",
    "#plt.scatter(x=ridelist, y=avgfairlist)  #CORRECT TO USE SCATTERPLOT\n",
    "\n",
    "plt.scatter(x = ridelist, \n",
    "            y = avgfairlist,\n",
    "           s = drivercountlist,\n",
    "           marker=\"o\", facecolors=\"red\",\n",
    "           alpha = 0.6)\n",
    "\n",
    "plt.title('Pyber Ride Sharing Data(2016)')\n",
    "plt.ylabel('Total Number of Rides (Per City)')\n",
    "plt.xlabel('Average Fares ($)')\n",
    "plt.text(-20,0, \" Note: The circle size represents how many drivers are in that city.\")\n",
    "#\\n\n",
    "plt.show()"
   ]
  },
  {
   "cell_type": "markdown",
   "metadata": {},
   "source": [
    "# Total Fares by City Type"
   ]
  },
  {
   "cell_type": "code",
   "execution_count": 200,
   "metadata": {},
   "outputs": [],
   "source": [
    "#% of Total Fares \n",
    "# demogroup = combined_pyber_data.groupby([\"city\",\"type\"])\n",
    "# demogroup.size()\n",
    "typegroup = combined_pyber_data.groupby([\"type\",\"city\"])\n",
    "#typegroup.head()\n"
   ]
  },
  {
   "cell_type": "code",
   "execution_count": 87,
   "metadata": {},
   "outputs": [
    {
     "data": {
      "text/html": [
       "<div>\n",
       "<style scoped>\n",
       "    .dataframe tbody tr th:only-of-type {\n",
       "        vertical-align: middle;\n",
       "    }\n",
       "\n",
       "    .dataframe tbody tr th {\n",
       "        vertical-align: top;\n",
       "    }\n",
       "\n",
       "    .dataframe thead th {\n",
       "        text-align: right;\n",
       "    }\n",
       "</style>\n",
       "<table border=\"1\" class=\"dataframe\">\n",
       "  <thead>\n",
       "    <tr style=\"text-align: right;\">\n",
       "      <th></th>\n",
       "      <th>NumberFares</th>\n",
       "    </tr>\n",
       "    <tr>\n",
       "      <th>type</th>\n",
       "      <th></th>\n",
       "    </tr>\n",
       "  </thead>\n",
       "  <tbody>\n",
       "    <tr>\n",
       "      <th>Rural</th>\n",
       "      <td>18</td>\n",
       "    </tr>\n",
       "    <tr>\n",
       "      <th>Suburban</th>\n",
       "      <td>41</td>\n",
       "    </tr>\n",
       "    <tr>\n",
       "      <th>Urban</th>\n",
       "      <td>66</td>\n",
       "    </tr>\n",
       "  </tbody>\n",
       "</table>\n",
       "</div>"
      ],
      "text/plain": [
       "          NumberFares\n",
       "type                 \n",
       "Rural              18\n",
       "Suburban           41\n",
       "Urban              66"
      ]
     },
     "execution_count": 87,
     "metadata": {},
     "output_type": "execute_result"
    }
   ],
   "source": [
    "ridespertype = combined_pyber_data.groupby([\"city\",\"type\"]).size()\n",
    "ridespertype\n",
    "#create into a dataframe\n",
    "farespertype = pd.DataFrame(ridespertype)\n",
    "farespertype\n",
    "typefares = pd.DataFrame(farespertype.groupby([\"type\"]).count())\n",
    "typefares.columns = [\"NumberFares\"]\n",
    "typefares\n"
   ]
  },
  {
   "cell_type": "code",
   "execution_count": 92,
   "metadata": {},
   "outputs": [
    {
     "data": {
      "text/plain": [
       "125"
      ]
     },
     "execution_count": 92,
     "metadata": {},
     "output_type": "execute_result"
    }
   ],
   "source": [
    "#Total Number of Fares\n",
    "fares_count = typefares[\"NumberFares\"].sum()\n",
    "fares_count"
   ]
  },
  {
   "cell_type": "code",
   "execution_count": 89,
   "metadata": {},
   "outputs": [
    {
     "name": "stdout",
     "output_type": "stream",
     "text": [
      "18\n"
     ]
    }
   ],
   "source": [
    "ruralrides = typefares[\"NumberFares\"].loc[\"Rural\"]\n",
    "print(ruralrides)"
   ]
  },
  {
   "cell_type": "code",
   "execution_count": 96,
   "metadata": {},
   "outputs": [
    {
     "name": "stdout",
     "output_type": "stream",
     "text": [
      "41\n"
     ]
    }
   ],
   "source": [
    "subrides = typefares[\"NumberFares\"].loc[\"Suburban\"]\n",
    "print(subrides)"
   ]
  },
  {
   "cell_type": "code",
   "execution_count": 97,
   "metadata": {},
   "outputs": [
    {
     "name": "stdout",
     "output_type": "stream",
     "text": [
      "66\n"
     ]
    }
   ],
   "source": [
    "urbanrides = typefares[\"NumberFares\"].loc[\"Urban\"]\n",
    "print(urbanrides)"
   ]
  },
  {
   "cell_type": "code",
   "execution_count": 95,
   "metadata": {},
   "outputs": [
    {
     "data": {
      "text/plain": [
       "14.000000000000002"
      ]
     },
     "execution_count": 95,
     "metadata": {},
     "output_type": "execute_result"
    }
   ],
   "source": [
    "ruralpercent = round(ruralrides / fares_count, 2) * 100\n",
    "ruralpercent"
   ]
  },
  {
   "cell_type": "code",
   "execution_count": 98,
   "metadata": {},
   "outputs": [],
   "source": [
    "# Labels for the sections of our pie chart\n",
    "labels = [\"Rural\", \"Suburban\", \"Urban\"]\n",
    "\n",
    "# The values of each section of the pie chart\n",
    "sizes = [ruralrides, subrides, urbanrides]\n",
    "\n",
    "# The colors of each section of the pie chart\n",
    "colors = [\"yellowgreen\", \"red\", \"lightcoral\"]\n",
    "#, \"lightskyblue\"]\n",
    "\n",
    "# Tells matplotlib to seperate the \"Python\" section from the others\n",
    "explode = (0.1, 0, 0)"
   ]
  },
  {
   "cell_type": "code",
   "execution_count": 99,
   "metadata": {},
   "outputs": [
    {
     "data": {
      "text/plain": [
       "([<matplotlib.patches.Wedge at 0x1871d9d6390>,\n",
       "  <matplotlib.patches.Wedge at 0x1871d9d6d30>,\n",
       "  <matplotlib.patches.Wedge at 0x1871d9e67f0>],\n",
       " [Text(-1.16395,0.291932,'Rural'),\n",
       "  Text(-0.360303,-1.03932,'Suburban'),\n",
       "  Text(0.77836,0.777274,'Urban')],\n",
       " [Text(-0.67897,0.170294,'14.4%'),\n",
       "  Text(-0.196529,-0.566901,'32.8%'),\n",
       "  Text(0.42456,0.423968,'52.8%')])"
      ]
     },
     "execution_count": 99,
     "metadata": {},
     "output_type": "execute_result"
    },
    {
     "data": {
      "image/png": "[encoded data removed]",
      "text/plain": [
       "<matplotlib.figure.Figure at 0x1871b95b080>"
      ]
     },
     "metadata": {},
     "output_type": "display_data"
    }
   ],
   "source": [
    "# Creates the pie chart based upon the values above\n",
    "# Automatically finds the percentages of each part of the pie chart\n",
    "plt.pie(sizes, explode=explode, labels=labels, colors=colors,\n",
    "        autopct=\"%1.1f%%\", shadow=True, startangle=140)"
   ]
  },
  {
   "cell_type": "code",
   "execution_count": 199,
   "metadata": {},
   "outputs": [],
   "source": [
    "# Tells matplotlib that we want a pie chart with equal axes\n",
    "#plt.axis(\"equal\")"
   ]
  },
  {
   "cell_type": "code",
   "execution_count": 104,
   "metadata": {},
   "outputs": [],
   "source": [
    "# Prints our pie chart to the screen\n",
    "plt.show()"
   ]
  },
  {
   "cell_type": "markdown",
   "metadata": {},
   "source": [
    "# Total Rides by City Type"
   ]
  },
  {
   "cell_type": "code",
   "execution_count": 205,
   "metadata": {},
   "outputs": [
    {
     "data": {
      "text/html": [
       "<div>\n",
       "<style scoped>\n",
       "    .dataframe tbody tr th:only-of-type {\n",
       "        vertical-align: middle;\n",
       "    }\n",
       "\n",
       "    .dataframe tbody tr th {\n",
       "        vertical-align: top;\n",
       "    }\n",
       "\n",
       "    .dataframe thead th {\n",
       "        text-align: right;\n",
       "    }\n",
       "</style>\n",
       "<table border=\"1\" class=\"dataframe\">\n",
       "  <thead>\n",
       "    <tr style=\"text-align: right;\">\n",
       "      <th></th>\n",
       "      <th>NumberRides</th>\n",
       "    </tr>\n",
       "    <tr>\n",
       "      <th>type</th>\n",
       "      <th></th>\n",
       "    </tr>\n",
       "  </thead>\n",
       "  <tbody>\n",
       "    <tr>\n",
       "      <th>Rural</th>\n",
       "      <td>125</td>\n",
       "    </tr>\n",
       "    <tr>\n",
       "      <th>Suburban</th>\n",
       "      <td>657</td>\n",
       "    </tr>\n",
       "    <tr>\n",
       "      <th>Urban</th>\n",
       "      <td>1625</td>\n",
       "    </tr>\n",
       "  </tbody>\n",
       "</table>\n",
       "</div>"
      ],
      "text/plain": [
       "          NumberRides\n",
       "type                 \n",
       "Rural             125\n",
       "Suburban          657\n",
       "Urban            1625"
      ]
     },
     "execution_count": 205,
     "metadata": {},
     "output_type": "execute_result"
    }
   ],
   "source": [
    "#Total Rides by City Type\n",
    "ridestype = pd.DataFrame(combined_pyber_data.groupby([\"city\",\"type\"]).sum())\n",
    "\n",
    "ridestype = pd.DataFrame(combined_pyber_data.groupby([\"type\"]).count()[\"ride_id\"])\n",
    "ridestype.columns = [\"NumberRides\"]\n",
    "ridestype"
   ]
  },
  {
   "cell_type": "code",
   "execution_count": 206,
   "metadata": {},
   "outputs": [
    {
     "data": {
      "text/plain": [
       "2407"
      ]
     },
     "execution_count": 206,
     "metadata": {},
     "output_type": "execute_result"
    }
   ],
   "source": [
    "riders_count = ridestype[\"NumberRides\"].sum()\n",
    "riders_count"
   ]
  },
  {
   "cell_type": "code",
   "execution_count": 211,
   "metadata": {},
   "outputs": [
    {
     "name": "stdout",
     "output_type": "stream",
     "text": [
      "125\n",
      "657\n",
      "1625\n"
     ]
    }
   ],
   "source": [
    "ruralrides = ridestype[\"NumberRides\"].loc[\"Rural\"]\n",
    "print(ruralrides)\n",
    "subrides = ridestype[\"NumberRides\"].loc[\"Suburban\"]\n",
    "print(subrides)\n",
    "urbanrides = ridestype[\"NumberRides\"].loc[\"Urban\"]\n",
    "print(urbanrides)"
   ]
  },
  {
   "cell_type": "code",
   "execution_count": 212,
   "metadata": {},
   "outputs": [],
   "source": [
    "# Labels for the sections of our pie chart\n",
    "labels = [\"Rural\", \"Suburban\", \"Urban\"]\n",
    "\n",
    "# The values of each section of the pie chart\n",
    "sizes = [ruralrides, subrides, urbanrides]\n",
    "\n",
    "# The colors of each section of the pie chart\n",
    "colors = [\"yellowgreen\", \"red\", \"lightcoral\"]\n",
    "#, \"lightskyblue\"]\n",
    "\n",
    "# Tells matplotlib to seperate the \"Python\" section from the others\n",
    "explode = (0.1, 0, 0)"
   ]
  },
  {
   "cell_type": "code",
   "execution_count": 213,
   "metadata": {},
   "outputs": [
    {
     "data": {
      "text/plain": [
       "([<matplotlib.patches.Wedge at 0x1871f1e75f8>,\n",
       "  <matplotlib.patches.Wedge at 0x1871f1ee080>,\n",
       "  <matplotlib.patches.Wedge at 0x1871f1eeb00>],\n",
       " [Text(-1.03233,0.611792,'Rural'),\n",
       "  Text(-0.972796,-0.513487,'Suburban'),\n",
       "  Text(1.04328,0.348661,'Urban')],\n",
       " [Text(-0.602194,0.356878,'5.2%'),\n",
       "  Text(-0.530616,-0.280084,'27.3%'),\n",
       "  Text(0.569062,0.190179,'67.5%')])"
      ]
     },
     "execution_count": 213,
     "metadata": {},
     "output_type": "execute_result"
    },
    {
     "data": {
      "image/png": "[encoded data removed]",
      "text/plain": [
       "<matplotlib.figure.Figure at 0x1871e179f98>"
      ]
     },
     "metadata": {},
     "output_type": "display_data"
    }
   ],
   "source": [
    "plt.pie(sizes, explode=explode, labels=labels, colors=colors,\n",
    "        autopct=\"%1.1f%%\", shadow=True, startangle=140)"
   ]
  },
  {
   "cell_type": "markdown",
   "metadata": {},
   "source": [
    "# Total Drivers by City Type"
   ]
  },
  {
   "cell_type": "code",
   "execution_count": 237,
   "metadata": {},
   "outputs": [
    {
     "data": {
      "text/html": [
       "<div>\n",
       "<style scoped>\n",
       "    .dataframe tbody tr th:only-of-type {\n",
       "        vertical-align: middle;\n",
       "    }\n",
       "\n",
       "    .dataframe tbody tr th {\n",
       "        vertical-align: top;\n",
       "    }\n",
       "\n",
       "    .dataframe thead th {\n",
       "        text-align: right;\n",
       "    }\n",
       "</style>\n",
       "<table border=\"1\" class=\"dataframe\">\n",
       "  <thead>\n",
       "    <tr style=\"text-align: right;\">\n",
       "      <th></th>\n",
       "      <th>driver_count</th>\n",
       "    </tr>\n",
       "    <tr>\n",
       "      <th>type</th>\n",
       "      <th></th>\n",
       "    </tr>\n",
       "  </thead>\n",
       "  <tbody>\n",
       "    <tr>\n",
       "      <th>Rural</th>\n",
       "      <td>727</td>\n",
       "    </tr>\n",
       "    <tr>\n",
       "      <th>Suburban</th>\n",
       "      <td>9730</td>\n",
       "    </tr>\n",
       "    <tr>\n",
       "      <th>Urban</th>\n",
       "      <td>64501</td>\n",
       "    </tr>\n",
       "  </tbody>\n",
       "</table>\n",
       "</div>"
      ],
      "text/plain": [
       "          driver_count\n",
       "type                  \n",
       "Rural              727\n",
       "Suburban          9730\n",
       "Urban            64501"
      ]
     },
     "execution_count": 237,
     "metadata": {},
     "output_type": "execute_result"
    }
   ],
   "source": [
    "#Total Rides by City Type\n",
    "# driverstype = pd.DataFrame(combined_pyber_data.groupby([\"city\",\"type\"]).count())\n",
    "# driverstype\n",
    "bytype = combined_pyber_data.groupby(\"type\")\n",
    "drivers = pd.DataFrame(bytype.sum()['driver_count'])\n",
    "#drivers.columns = \"Total Drivers\"\n",
    "drivers"
   ]
  },
  {
   "cell_type": "code",
   "execution_count": 244,
   "metadata": {},
   "outputs": [
    {
     "data": {
      "text/plain": [
       "driver_count    727\n",
       "Name: Rural, dtype: int64"
      ]
     },
     "execution_count": 244,
     "metadata": {},
     "output_type": "execute_result"
    }
   ],
   "source": [
    "ruraldrivers = drivers.loc['Rural']\n",
    "ruraldrivers"
   ]
  },
  {
   "cell_type": "code",
   "execution_count": 243,
   "metadata": {},
   "outputs": [
    {
     "data": {
      "text/plain": [
       "driver_count    9730\n",
       "Name: Suburban, dtype: int64"
      ]
     },
     "execution_count": 243,
     "metadata": {},
     "output_type": "execute_result"
    }
   ],
   "source": [
    "subdrivers = drivers.loc['Suburban']\n",
    "subdrivers"
   ]
  },
  {
   "cell_type": "code",
   "execution_count": 245,
   "metadata": {},
   "outputs": [
    {
     "data": {
      "text/plain": [
       "driver_count    64501\n",
       "Name: Urban, dtype: int64"
      ]
     },
     "execution_count": 245,
     "metadata": {},
     "output_type": "execute_result"
    }
   ],
   "source": [
    "urbandrivers = drivers.loc['Urban']\n",
    "urbandrivers "
   ]
  },
  {
   "cell_type": "code",
   "execution_count": 246,
   "metadata": {},
   "outputs": [],
   "source": [
    "# Labels for the sections of our pie chart\n",
    "labels = [\"Rural\", \"Suburban\", \"Urban\"]\n",
    "\n",
    "# The values of each section of the pie chart\n",
    "sizes = [ruraldrivers, subdrivers, urbandrivers]\n",
    "\n",
    "# The colors of each section of the pie chart\n",
    "colors = [\"yellowgreen\", \"red\", \"lightcoral\"]\n",
    "#, \"lightskyblue\"]\n",
    "\n",
    "# Tells matplotlib to seperate the \"Python\" section from the others\n",
    "explode = (0.1, 0, 0)\n",
    "# group = ridestype[\"ride_id\"].count()\n",
    "# group"
   ]
  },
  {
   "cell_type": "code",
   "execution_count": 247,
   "metadata": {},
   "outputs": [
    {
     "data": {
      "text/plain": [
       "([<matplotlib.patches.Wedge at 0x1871e099da0>,\n",
       "  <matplotlib.patches.Wedge at 0x1871e0b62e8>,\n",
       "  <matplotlib.patches.Wedge at 0x1871e07b208>],\n",
       " [Text(-0.942326,0.742982,'Rural'),\n",
       "  Text(-1.07118,0.250127,'Suburban'),\n",
       "  Text(1.06307,-0.282644,'Urban')],\n",
       " [Text(-0.54969,0.433406,'1.0%'),\n",
       "  Text(-0.584283,0.136433,'13.0%'),\n",
       "  Text(0.579855,-0.15417,'86.0%')])"
      ]
     },
     "execution_count": 247,
     "metadata": {},
     "output_type": "execute_result"
    },
    {
     "data": {
      "image/png": "[encoded data removed]",
      "text/plain": [
       "<matplotlib.figure.Figure at 0x1871e134748>"
      ]
     },
     "metadata": {},
     "output_type": "display_data"
    }
   ],
   "source": [
    "plt.pie(sizes, explode=explode, labels=labels, colors=colors,\n",
    "        autopct=\"%1.1f%%\", shadow=True, startangle=140)"
   ]
  },
  {
   "cell_type": "code",
   "execution_count": 215,
   "metadata": {},
   "outputs": [],
   "source": [
    "# countfare = demogroup.count()[\"fare\"]\n",
    "# countfare"
   ]
  },
  {
   "cell_type": "code",
   "execution_count": 55,
   "metadata": {},
   "outputs": [],
   "source": [
    "#type(pd_file.groupby([\"city\",\"type\"]))"
   ]
  },
  {
   "cell_type": "code",
   "execution_count": 49,
   "metadata": {},
   "outputs": [],
   "source": [
    "#list(pd_file.groupby([\"type\"]))"
   ]
  },
  {
   "cell_type": "code",
   "execution_count": 50,
   "metadata": {},
   "outputs": [],
   "source": [
    "# for group_key, group_value in pd_file.groupby('type'):\n",
    "#     print(group_key)\n",
    "#     print(group_value)"
   ]
  },
  {
   "cell_type": "code",
   "execution_count": 214,
   "metadata": {},
   "outputs": [],
   "source": [
    "# for group_key, group_value in typegroup:\n",
    "#     print(group_key)\n",
    "#     print(group_value)"
   ]
  },
  {
   "cell_type": "code",
   "execution_count": null,
   "metadata": {},
   "outputs": [],
   "source": []
  }
 ],
 "metadata": {
  "kernelspec": {
   "display_name": "Python 3",
   "language": "python",
   "name": "python3"
  },
  "language_info": {
   "codemirror_mode": {
    "name": "ipython",
    "version": 3
   },
   "file_extension": ".py",
   "mimetype": "text/x-python",
   "name": "python",
   "nbconvert_exporter": "python",
   "pygments_lexer": "ipython3",
   "version": "3.6.4"
  }
 },
 "nbformat": 4,
 "nbformat_minor": 2
}
